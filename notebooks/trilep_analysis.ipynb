{
 "cells": [
  {
   "cell_type": "code",
   "execution_count": 1,
   "id": "verified-stevens",
   "metadata": {},
   "outputs": [],
   "source": [
    "%load_ext autoreload\n",
    "%autoreload 2"
   ]
  },
  {
   "cell_type": "code",
   "execution_count": 2,
   "id": "prescription-smooth",
   "metadata": {},
   "outputs": [
    {
     "ename": "ModuleNotFoundError",
     "evalue": "No module named 'Tools'",
     "output_type": "error",
     "traceback": [
      "\u001b[0;31m---------------------------------------------------------------------------\u001b[0m",
      "\u001b[0;31mModuleNotFoundError\u001b[0m                       Traceback (most recent call last)",
      "\u001b[0;32m<ipython-input-2-d3078b5ee45e>\u001b[0m in \u001b[0;36m<module>\u001b[0;34m\u001b[0m\n\u001b[1;32m      1\u001b[0m \u001b[0;32mimport\u001b[0m \u001b[0mos\u001b[0m\u001b[0;34m\u001b[0m\u001b[0;34m\u001b[0m\u001b[0m\n\u001b[1;32m      2\u001b[0m \u001b[0;34m\u001b[0m\u001b[0m\n\u001b[0;32m----> 3\u001b[0;31m \u001b[0;32mfrom\u001b[0m \u001b[0mTools\u001b[0m\u001b[0;34m.\u001b[0m\u001b[0mconfig_helpers\u001b[0m \u001b[0;32mimport\u001b[0m \u001b[0mloadConfig\u001b[0m\u001b[0;34m,\u001b[0m \u001b[0mmake_small\u001b[0m\u001b[0;34m\u001b[0m\u001b[0;34m\u001b[0m\u001b[0m\n\u001b[0m\u001b[1;32m      4\u001b[0m \u001b[0;32mfrom\u001b[0m \u001b[0mklepto\u001b[0m\u001b[0;34m.\u001b[0m\u001b[0marchives\u001b[0m \u001b[0;32mimport\u001b[0m \u001b[0mdir_archive\u001b[0m\u001b[0;34m\u001b[0m\u001b[0;34m\u001b[0m\u001b[0m\n\u001b[1;32m      5\u001b[0m \u001b[0;34m\u001b[0m\u001b[0m\n",
      "\u001b[0;31mModuleNotFoundError\u001b[0m: No module named 'Tools'"
     ]
    }
   ],
   "source": [
    "import os\n",
    "\n",
    "from Tools.config_helpers import loadConfig, make_small\n",
    "from klepto.archives import dir_archive\n",
    "\n",
    "from coffea.nanoevents import NanoEventsFactory, NanoAODSchema\n",
    "from coffea import processor, hist\n",
    "\n",
    "from processor.trilep_analysis import trilep_analysis\n",
    "from processor.default_accumulators import desired_output, add_processes_to_output, variations"
   ]
  },
  {
   "cell_type": "code",
   "execution_count": 19,
   "id": "stylish-outline",
   "metadata": {},
   "outputs": [
    {
     "name": "stdout",
     "output_type": "stream",
     "text": [
      "I'm running now\n"
     ]
    },
    {
     "data": {
      "application/vnd.jupyter.widget-view+json": {
       "model_id": "d28d1e203f35485b9704724606df20e5",
       "version_major": 2,
       "version_minor": 0
      },
      "text/plain": [
       "Processing:   0%|          | 0/274 [00:00<?, ?chunk/s]"
      ]
     },
     "metadata": {},
     "output_type": "display_data"
    },
    {
     "name": "stderr",
     "output_type": "stream",
     "text": [
      "/home/users/hbronson/miniconda3/envs/coffeatest/lib/python3.8/site-packages/awkward/_connect/_numpy.py:150: RuntimeWarning: invalid value encountered in sqrt\n",
      "  result = getattr(ufunc, method)(\n",
      "/home/users/hbronson/miniconda3/envs/coffeatest/lib/python3.8/site-packages/awkward/_connect/_numpy.py:150: RuntimeWarning: invalid value encountered in sqrt\n",
      "  result = getattr(ufunc, method)(\n",
      "/home/users/hbronson/miniconda3/envs/coffeatest/lib/python3.8/site-packages/awkward/_connect/_numpy.py:150: RuntimeWarning: invalid value encountered in sqrt\n",
      "  result = getattr(ufunc, method)(\n",
      "/home/users/hbronson/miniconda3/envs/coffeatest/lib/python3.8/site-packages/awkward/_connect/_numpy.py:150: RuntimeWarning: invalid value encountered in sqrt\n",
      "  result = getattr(ufunc, method)(\n",
      "/home/users/hbronson/miniconda3/envs/coffeatest/lib/python3.8/site-packages/awkward/_connect/_numpy.py:150: RuntimeWarning: invalid value encountered in sqrt\n",
      "  result = getattr(ufunc, method)(\n",
      "/home/users/hbronson/miniconda3/envs/coffeatest/lib/python3.8/site-packages/awkward/_connect/_numpy.py:150: RuntimeWarning: invalid value encountered in sqrt\n",
      "  result = getattr(ufunc, method)(\n",
      "/home/users/hbronson/miniconda3/envs/coffeatest/lib/python3.8/site-packages/awkward/_connect/_numpy.py:150: RuntimeWarning: invalid value encountered in sqrt\n",
      "  result = getattr(ufunc, method)(\n",
      "/home/users/hbronson/miniconda3/envs/coffeatest/lib/python3.8/site-packages/awkward/_connect/_numpy.py:150: RuntimeWarning: invalid value encountered in sqrt\n",
      "  result = getattr(ufunc, method)(\n",
      "/home/users/hbronson/miniconda3/envs/coffeatest/lib/python3.8/site-packages/awkward/_connect/_numpy.py:150: RuntimeWarning: invalid value encountered in sqrt\n",
      "  result = getattr(ufunc, method)(\n",
      "/home/users/hbronson/miniconda3/envs/coffeatest/lib/python3.8/site-packages/awkward/_connect/_numpy.py:150: RuntimeWarning: invalid value encountered in sqrt\n",
      "  result = getattr(ufunc, method)(\n"
     ]
    }
   ],
   "source": [
    "# an equivalent code can be run with ipython -i trilep_analysis.py within the processor directory\n",
    "from Tools.samples import fileset_2018, fileset_2018_small\n",
    "\n",
    "overwrite = True\n",
    "year      = 2018\n",
    "small     = False\n",
    "\n",
    "# load the config and the cache\n",
    "cfg = loadConfig()\n",
    "\n",
    "cacheName = '0SFOS_neg'\n",
    "if small: cacheName += '_small'\n",
    "\n",
    "cache = dir_archive(os.path.join(os.path.expandvars(cfg['caches']['base']), cacheName), serialized=True)\n",
    "\n",
    "fileset = {\n",
    "    'topW_v3': fileset_2018['topW_v3'],\n",
    "    'topW_EFT_cp8': fileset_2018['topW_EFT_cp8'],\n",
    "    'topW_EFT_mix': fileset_2018['topW_EFT_mix'],\n",
    "    'TTW': fileset_2018['TTW'],\n",
    "    'TTZ': fileset_2018['TTZ'],\n",
    "    'TTH': fileset_2018['TTH'],\n",
    "    'diboson': fileset_2018['diboson'],\n",
    "    'ttbar': fileset_2018['top2l'],\n",
    "    'DY': fileset_2018['DY'],\n",
    "    #'MuonEG': fileset_2018['MuonEG'],\n",
    "    #'DoubleMuon': fileset_2018['DoubleMuon'],\n",
    "    #'EGamma': fileset_2018['EGamma'],\n",
    "}\n",
    "\n",
    "fileset = make_small(fileset, small, n_max=1)  # run over just one file each if small is set to true\n",
    "\n",
    "# add all processes to output so that the cutflow doesn't fail\n",
    "add_processes_to_output(fileset, desired_output)\n",
    "\n",
    "# add some histograms that we defined in the processor\n",
    "# everything else is taken the default_accumulators.py\n",
    "from processor.default_accumulators import mass_axis, dataset_axis, pt_axis, ht_axis\n",
    "desired_output.update({\n",
    "    \"dilep_mass\": hist.Hist(\"Counts\", dataset_axis, mass_axis),\n",
    "    \"m3l\": hist.Hist(\"Counts\", dataset_axis, mass_axis),\n",
    "    \"ST\": hist.Hist(\"Counts\", dataset_axis, ht_axis),\n",
    "})\n",
    "\n",
    "histograms = sorted(list(desired_output.keys()))\n",
    "\n",
    "exe_args = {\n",
    "    'workers': 16,\n",
    "    'function_args': {'flatten': False},\n",
    "    \"schema\": NanoAODSchema,\n",
    "}\n",
    "exe = processor.futures_executor\n",
    "\n",
    "if not overwrite:\n",
    "    cache.load()\n",
    "\n",
    "if cfg == cache.get('cfg') and histograms == cache.get('histograms') and cache.get('simple_output'):\n",
    "    output = cache.get('simple_output')\n",
    "\n",
    "else:\n",
    "    print (\"I'm running now\")\n",
    "    \n",
    "    output = processor.run_uproot_job(\n",
    "        fileset,\n",
    "        \"Events\",\n",
    "        trilep_analysis(year=year, variations=variations, accumulator=desired_output),\n",
    "        exe,\n",
    "        exe_args,\n",
    "        chunksize=250000,\n",
    "    )\n",
    "    \n",
    "    cache['fileset']        = fileset\n",
    "    cache['cfg']            = cfg\n",
    "    cache['histograms']     = histograms\n",
    "    cache['simple_output']  = output\n",
    "    cache.dump()"
   ]
  },
  {
   "cell_type": "code",
   "execution_count": null,
   "id": "honest-destruction",
   "metadata": {},
   "outputs": [],
   "source": [
    "# we can just take the process list from the fileset to avoid any confusions\n",
    "processes = list(fileset.keys())\n",
    "\n",
    "processes.remove('topW_EFT_cp8')\n",
    "processes.remove('topW_EFT_mix')\n",
    "\n",
    "# the following list is directly taken from Tools/selection.py\n",
    "lines = ['entry']\n",
    "lines += [\n",
    "            'filter',\n",
    "            'lepveto',\n",
    "            'trilep',\n",
    "            'p_T(lep0)>25',\n",
    "            'p_T(lep1)>20',\n",
    "            'trigger',\n",
    "            'offZ',\n",
    "            'MET>50',\n",
    "            'N_jet>2',\n",
    "            'N_central>1',\n",
    "            'N_btag>0',\n",
    "            'N_fwd>0',\n",
    "        ]\n",
    "\n",
    "from Tools.helpers import getCutFlowTable\n",
    "df = getCutFlowTable(output, processes=processes, lines=lines, significantFigures=4, signal='topW_v3')\n",
    "df"
   ]
  },
  {
   "cell_type": "code",
   "execution_count": null,
   "id": "removed-gnome",
   "metadata": {},
   "outputs": [],
   "source": [
    "df = getCutFlowTable(output, processes=processes, lines=lines, significantFigures=4, absolute=False, signal='topW_v3')\n",
    "df"
   ]
  },
  {
   "cell_type": "code",
   "execution_count": null,
   "id": "smaller-convert",
   "metadata": {},
   "outputs": [],
   "source": [
    "import warnings\n",
    "warnings.filterwarnings('ignore')\n",
    "\n",
    "import matplotlib.pyplot as plt\n",
    "import mplhep as hep\n",
    "plt.style.use(hep.style.CMS)\n",
    "\n",
    "from plots.helpers import makePlot\n",
    "\n",
    "# defining some new axes for rebinning.\n",
    "N_bins = hist.Bin('multiplicity', r'$N$', 10, -0.5, 9.5)\n",
    "N_bins_red = hist.Bin('multiplicity', r'$N$', 5, -0.5, 4.5)\n",
    "mass_bins = hist.Bin('mass', r'$M\\ (GeV)$', 20, 0, 600)\n",
    "m3l_bins = hist.Bin('mass', r'$M\\ (GeV)$', [0,110,150,200,400])\n",
    "pt_bins = hist.Bin('pt', r'$p_{T}\\ (GeV)$', 30, 0, 300)\n",
    "pt_bins_coarse = hist.Bin('pt', r'$p_{T}\\ (GeV)$', 10, 0, 300)\n",
    "eta_bins = hist.Bin('eta', r'$\\eta $', 25, -5.0, 5.0)\n",
    "ht_bins =  hist.Bin(\"ht\",        r\"$H_{T}$ (GeV)\", 50, 0, 5000)\n",
    "\n",
    "my_labels = {\n",
    "    'topW_v3': 'top-W scat.',\n",
    "    'topW_EFT_cp8': 'EFT, cp8',\n",
    "    'topW_EFT_mix': 'EFT mix',\n",
    "    'TTZ': r'$t\\bar{t}Z$',\n",
    "    'TTW': r'$t\\bar{t}W$',\n",
    "    'TTH': r'$t\\bar{t}H$',\n",
    "    'diboson': 'VV/VVV',\n",
    "    'ttbar': r'$t\\bar{t}$',\n",
    "    'DY': 'Drell-Yan',\n",
    "}\n",
    "\n",
    "my_colors = {\n",
    "    'topW_v3': '#FF595E',\n",
    "    'topW_EFT_cp8': '#000000',\n",
    "    'topW_EFT_mix': '#0F7173',\n",
    "    'TTZ': '#FFCA3A',\n",
    "    'TTW': '#8AC926',\n",
    "    'TTH': '#34623F',\n",
    "    'diboson': '#525B76',\n",
    "    'ttbar': '#1982C4',\n",
    "    'DY': '#6A4C93',}"
   ]
  },
  {
   "cell_type": "markdown",
   "id": "clean-watershed",
   "metadata": {},
   "source": [
    "Here are the graphs:"
   ]
  },
  {
   "cell_type": "code",
   "execution_count": null,
   "id": "dried-stable",
   "metadata": {},
   "outputs": [],
   "source": [
    "makePlot(output, 'ST', 'ht',\n",
    "         data=[],\n",
    "         bins=ht_bins, log=True, normalize=False, axis_label=r'$H_{T}$ (GeV)',\n",
    "         new_colors=my_colors, new_labels=my_labels,\n",
    "         order=['topW_v3', 'diboson', 'TTW', 'TTH', 'TTZ', 'DY','ttbar'],\n",
    "         signals=[],\n",
    "         omit=['topW_EFT_cp8', 'topW_EFT_mix'],\n",
    "        )"
   ]
  },
  {
   "cell_type": "code",
   "execution_count": null,
   "id": "accessory-lease",
   "metadata": {},
   "outputs": [],
   "source": [
    "makePlot(output, 'fwd_jet', 'pt',\n",
    "         data=[],\n",
    "         bins=pt_bins_coarse, log=True, normalize=False, axis_label=r'$p_{T}$ (fwd jet) (GeV)',\n",
    "         new_colors=my_colors, new_labels=my_labels,\n",
    "         order=['topW_v3', 'diboson', 'TTW', 'TTH', 'TTZ', 'DY','ttbar'],\n",
    "         signals=[],\n",
    "         omit=['topW_EFT_cp8', 'topW_EFT_mix'],\n",
    "        )"
   ]
  },
  {
   "cell_type": "code",
   "execution_count": null,
   "id": "coordinated-lunch",
   "metadata": {},
   "outputs": [],
   "source": [
    "makePlot(output, 'N_mu', 'multiplicity',\n",
    "         data=[],\n",
    "         bins=N_bins_red, log=True, normalize=False, axis_label=r'$N_{mu}$',\n",
    "         new_colors=my_colors, new_labels=my_labels,\n",
    "         order=['topW_v3', 'diboson', 'TTW', 'TTH', 'TTZ', 'DY','ttbar'],\n",
    "         signals=[],\n",
    "         omit=['topW_EFT_cp8', 'topW_EFT_mix'],\n",
    "        )"
   ]
  },
  {
   "cell_type": "code",
   "execution_count": null,
   "id": "hearing-master",
   "metadata": {},
   "outputs": [],
   "source": [
    "makePlot(output, 'N_ele', 'multiplicity',\n",
    "         data=[],\n",
    "         bins=N_bins_red, log=True, normalize=False, axis_label=r'$N_{ele}$',\n",
    "         new_colors=my_colors, new_labels=my_labels,\n",
    "         order=['topW_v3', 'diboson', 'TTW', 'TTH', 'TTZ', 'DY','ttbar'],\n",
    "         signals=[],\n",
    "         omit=['topW_EFT_cp8', 'topW_EFT_mix'],\n",
    "        )"
   ]
  },
  {
   "cell_type": "code",
   "execution_count": null,
   "id": "pointed-bangkok",
   "metadata": {},
   "outputs": [],
   "source": [
    "makePlot(output, 'MET', 'pt',\n",
    "         data=[],\n",
    "         bins=pt_bins_coarse, log=True, normalize=False, axis_label=r'$p_{T}^{miss}$ (GeV)',\n",
    "         new_colors=my_colors, new_labels=my_labels,\n",
    "         order=['topW_v3', 'diboson', 'TTW', 'TTH', 'TTZ','DY', 'ttbar'],\n",
    "         signals=[],\n",
    "         omit=['topW_EFT_cp8', 'topW_EFT_mix'],\n",
    "        )"
   ]
  },
  {
   "cell_type": "code",
   "execution_count": null,
   "id": "operating-breach",
   "metadata": {},
   "outputs": [],
   "source": [
    "makePlot(output, 'lead_lep', 'pt',\n",
    "         data=[],\n",
    "         bins=pt_bins_coarse, log=True, normalize=False, axis_label=r'$p_{T}$ (lead lep) (GeV)',\n",
    "         new_colors=my_colors, new_labels=my_labels,\n",
    "         order=['topW_v3', 'diboson', 'TTW', 'TTH', 'TTZ', 'DY', 'ttbar'],\n",
    "         signals=[],\n",
    "         omit=['topW_EFT_cp8', 'topW_EFT_mix'],\n",
    "        )"
   ]
  },
  {
   "cell_type": "code",
   "execution_count": null,
   "id": "australian-heaven",
   "metadata": {},
   "outputs": [],
   "source": [
    "makePlot(output, 'N_jet', 'multiplicity',\n",
    "         data=[],\n",
    "         bins=N_bins, log=True, normalize=False, axis_label=r'$N_{jet}$',\n",
    "         new_colors=my_colors, new_labels=my_labels,\n",
    "         order=['topW_v3', 'diboson', 'TTW', 'TTH', 'TTZ', 'DY','ttbar'],\n",
    "         signals=[],\n",
    "         omit=['topW_EFT_cp8', 'topW_EFT_mix'],\n",
    "        )"
   ]
  },
  {
   "cell_type": "code",
   "execution_count": null,
   "id": "olympic-arrow",
   "metadata": {},
   "outputs": [],
   "source": [
    "makePlot(output, 'N_b', 'multiplicity',\n",
    "         data=[],\n",
    "         bins=N_bins_red, log=True, normalize=False, axis_label=r'$N_{b}$',\n",
    "         new_colors=my_colors, new_labels=my_labels,\n",
    "         order=['topW_v3', 'diboson', 'TTW', 'TTH', 'TTZ', 'DY','ttbar'],\n",
    "         signals=[],\n",
    "         omit=['topW_EFT_cp8', 'topW_EFT_mix'],\n",
    "        )"
   ]
  },
  {
   "cell_type": "code",
   "execution_count": null,
   "id": "optimum-sound",
   "metadata": {},
   "outputs": [],
   "source": [
    "makePlot(output, 'N_fwd', 'multiplicity',\n",
    "         data=[],\n",
    "         bins=N_bins_red, log=True, normalize=False, axis_label=r'$N_{fwd}$',\n",
    "         new_colors=my_colors, new_labels=my_labels,\n",
    "         order=['topW_v3', 'diboson', 'TTW', 'TTH', 'TTZ', 'DY','ttbar'],\n",
    "         signals=[],\n",
    "         omit=['topW_EFT_cp8', 'topW_EFT_mix'],\n",
    "        )"
   ]
  },
  {
   "cell_type": "code",
   "execution_count": null,
   "id": "recovered-norwegian",
   "metadata": {},
   "outputs": [],
   "source": [
    "makePlot(output, 'dilep_mass', 'mass',\n",
    "         data=[],\n",
    "         bins=mass_bins, log=True, normalize=False, axis_label=r'$M_{\\ell\\ell}$ (GeV)',\n",
    "         new_colors=my_colors, new_labels=my_labels,\n",
    "         order=['topW_v3', 'diboson', 'TTW', 'TTH', 'TTZ', 'DY','ttbar'],\n",
    "         signals=[],\n",
    "         omit=['topW_EFT_cp8', 'topW_EFT_mix'],\n",
    "        )"
   ]
  },
  {
   "cell_type": "code",
   "execution_count": null,
   "id": "crucial-potato",
   "metadata": {},
   "outputs": [],
   "source": [
    "makePlot(output, 'trail_lep', 'pt',\n",
    "         data=[],\n",
    "         bins=pt_bins_coarse, log=True, normalize=False, axis_label=r'$p_{T}$ (trail lep) (GeV)',\n",
    "         new_colors=my_colors, new_labels=my_labels,\n",
    "         order=['topW_v3', 'diboson', 'TTW', 'TTH', 'TTZ', 'ttbar'],\n",
    "         signals=[],\n",
    "         omit=['topW_EFT_cp8', 'topW_EFT_mix'],\n",
    "        )"
   ]
  },
  {
   "cell_type": "code",
   "execution_count": null,
   "id": "accomplished-species",
   "metadata": {},
   "outputs": [],
   "source": [
    "makePlot(output, 'm3l', 'mass',\n",
    "         data=[],\n",
    "         bins=m3l_bins, log=True, normalize=False, axis_label=r'$M3l$ (GeV)',\n",
    "         new_colors=my_colors, new_labels=my_labels,\n",
    "         order=['topW_v3', 'diboson', 'TTW', 'TTH', 'TTZ', 'DY','ttbar'],\n",
    "         signals=[],\n",
    "         omit=['topW_EFT_cp8', 'topW_EFT_mix'],\n",
    "        )\n",
    "makePlot(output, 'm3l', 'mass',\n",
    "         data=[],\n",
    "         bins=mass_bins, log=True, normalize=False, axis_label=r'$M3l$ (GeV)',\n",
    "         new_colors=my_colors, new_labels=my_labels,\n",
    "         order=['topW_v3', 'diboson', 'TTW', 'TTH', 'TTZ', 'DY','ttbar'],\n",
    "         signals=[],\n",
    "         omit=['topW_EFT_cp8', 'topW_EFT_mix'],\n",
    "        )"
   ]
  },
  {
   "cell_type": "code",
   "execution_count": null,
   "id": "optional-trunk",
   "metadata": {},
   "outputs": [],
   "source": []
  },
  {
   "cell_type": "code",
   "execution_count": null,
   "id": "expected-integrity",
   "metadata": {},
   "outputs": [],
   "source": []
  }
 ],
 "metadata": {
  "kernelspec": {
   "display_name": "Python 3",
   "language": "python",
   "name": "python3"
  },
  "language_info": {
   "codemirror_mode": {
    "name": "ipython",
    "version": 3
   },
   "file_extension": ".py",
   "mimetype": "text/x-python",
   "name": "python",
   "nbconvert_exporter": "python",
   "pygments_lexer": "ipython3",
   "version": "3.8.6"
  }
 },
 "nbformat": 4,
 "nbformat_minor": 5
}
