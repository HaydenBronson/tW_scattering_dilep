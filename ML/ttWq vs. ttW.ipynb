{
 "cells": [
  {
   "cell_type": "markdown",
   "id": "58902fb1",
   "metadata": {},
   "source": [
    "NN Model"
   ]
  },
  {
   "cell_type": "code",
   "execution_count": 4,
   "id": "e50734ef",
   "metadata": {},
   "outputs": [],
   "source": [
    "import uproot\n",
    "import awkward as ak\n",
    "import numpy as np\n",
    "import pandas as pd\n",
    "\n",
    "%matplotlib inline\n",
    "import matplotlib\n",
    "import matplotlib.pyplot as plt\n",
    "from matplotlib.colors import LogNorm\n",
    "\n",
    "import tensorflow as tf\n",
    "\n",
    "from coffea.nanoevents import NanoEventsFactory, NanoAODSchema\n",
    "from coffea.analysis_tools import Weights, PackedSelection\n",
    "\n",
    "from sklearn.metrics import roc_curve, roc_auc_score, auc\n",
    "from sklearn.model_selection import train_test_split\n",
    "from lbn import LBN, LBNLayer"
   ]
  },
  {
   "cell_type": "code",
   "execution_count": 5,
   "id": "62b009d2",
   "metadata": {},
   "outputs": [],
   "source": [
    "from Tools.objects import Collections, choose\n",
    "from Tools.basic_objects import getJets"
   ]
  },
  {
   "cell_type": "code",
   "execution_count": 6,
   "id": "e75a2042",
   "metadata": {},
   "outputs": [],
   "source": [
    "df = pd.read_hdf('/hadoop/cms/store/user/dspitzba/ML/multiclass_input_v4.h5')\n",
    "preselection = ((df['n_jet']>2) & (df['n_btag']>0) & (df['n_lep_tight']==2) & (df['n_fwd']>0))\n"
   ]
  },
  {
   "cell_type": "code",
   "execution_count": 8,
   "id": "e4e9deed",
   "metadata": {},
   "outputs": [
    {
     "name": "stdout",
     "output_type": "stream",
     "text": [
      "Total number of signal: 134276, background: 301328\n"
     ]
    }
   ],
   "source": [
    "sig_df = df[(df['label_cat']==0)]\n",
    "bkg_df = df[(df['label_cat']==1)]\n",
    "\n",
    "# usually we have less signal than background, but we balance our data sets in both directions\n",
    "nSignal = len(sig_df)\n",
    "nBkg = len(bkg_df)\n",
    "\n",
    "print (\"Total number of signal: %s, background: %s\"%(nSignal, nBkg))\n",
    "\n",
    "# Balance the signal and background sets\n",
    "if nBkg>nSignal:\n",
    "    tmp_bkg_df = bkg_df.sample( n = nSignal )\n",
    "    tmp_sig_df = sig_df\n",
    "else:\n",
    "    tmp_bkg_df = bkg_df\n",
    "    tmp_sig_df = sig_df.sample( n = nBkg )\n",
    "    \n",
    "y_sig = np.ones(len(tmp_sig_df))\n",
    "y_bkg = np.zeros(len(tmp_bkg_df))\n",
    "y_tmp = np.concatenate((y_sig,y_bkg))\n",
    "\n",
    "# merge signal and background\n",
    "frames = [tmp_sig_df, tmp_bkg_df]\n",
    "X_tmp = pd.concat(frames)"
   ]
  },
  {
   "cell_type": "code",
   "execution_count": 9,
   "id": "0c342594",
   "metadata": {},
   "outputs": [],
   "source": [
    "X_tmp_train, X_tmp_test, y_train, y_test = train_test_split(X_tmp, y_tmp, train_size= int( 0.5*y_tmp.shape[0] ), random_state=42 )"
   ]
  },
  {
   "cell_type": "code",
   "execution_count": 10,
   "id": "9cdf31d5",
   "metadata": {},
   "outputs": [],
   "source": [
    "variables = [\n",
    "        ## best results with all variables, but should get pruned at some point...\n",
    "        'n_jet',\n",
    "        ##'n_central',\n",
    "        ###'n_fwd',\n",
    "        'n_tau',\n",
    "        'n_track',\n",
    "        'st',\n",
    "        ##'ht',\n",
    "        'met',\n",
    "        'mjj_max',\n",
    "        'delta_eta_jj',\n",
    "        'lead_lep_pt',\n",
    "        'lead_lep_eta',\n",
    "        'sublead_lep_pt',\n",
    "        'sublead_lep_eta',\n",
    "        'dilepton_mass',\n",
    "        'dilepton_pt',\n",
    "        'fwd_jet_pt',\n",
    "        'fwd_jet_p',\n",
    "        'fwd_jet_eta',\n",
    "        'lead_jet_pt',\n",
    "        'sublead_jet_pt',\n",
    "        'lead_jet_eta',\n",
    "        'sublead_jet_eta',\n",
    "        'lead_btag_pt',\n",
    "        'sublead_btag_pt',\n",
    "        'lead_btag_eta',\n",
    "        'sublead_btag_eta',\n",
    "        'min_bl_dR',\n",
    "        'min_mt_lep_met',\n",
    "    ]\n",
    "X_train = X_tmp_train[variables]\n",
    "X_test = X_tmp_test[variables]"
   ]
  },
  {
   "cell_type": "code",
   "execution_count": 11,
   "id": "078ba135",
   "metadata": {},
   "outputs": [
    {
     "name": "stdout",
     "output_type": "stream",
     "text": [
      "Model: \"sequential\"\n",
      "_________________________________________________________________\n",
      "Layer (type)                 Output Shape              Param #   \n",
      "=================================================================\n",
      "dense (Dense)                (None, 8)                 216       \n",
      "_________________________________________________________________\n",
      "dense_1 (Dense)              (None, 64)                576       \n",
      "_________________________________________________________________\n",
      "dense_2 (Dense)              (None, 128)               8320      \n",
      "_________________________________________________________________\n",
      "dense_3 (Dense)              (None, 64)                8256      \n",
      "_________________________________________________________________\n",
      "dense_4 (Dense)              (None, 8)                 520       \n",
      "_________________________________________________________________\n",
      "dense_5 (Dense)              (None, 1)                 9         \n",
      "=================================================================\n",
      "Total params: 17,897\n",
      "Trainable params: 17,897\n",
      "Non-trainable params: 0\n",
      "_________________________________________________________________\n"
     ]
    }
   ],
   "source": [
    "NHLayer = 5\n",
    "epochs = 500\n",
    "batch_size = 5120\n",
    "validation_split = 0.2\n",
    "\n",
    "# define the model. Which one is the best suited for our problem?\n",
    "model = tf.keras.models.Sequential()\n",
    "\n",
    "# add layers. we can play a bit with the hyper parameters here\n",
    "model.add( tf.keras.layers.Dense(units=8, activation='relu', input_dim=X_train.shape[1], ))\n",
    "#model.add( tf.keras.layers.Dropout( rate = 0.1 ) )\n",
    "\n",
    "model.add( tf.keras.layers.Dense(units=64, activation='relu' ) )\n",
    "#model.add( tf.keras.layers.Dropout( rate = 0.1 ) )\n",
    "\n",
    "model.add( tf.keras.layers.Dense(units=128, activation='relu' ) )\n",
    "#model.add( tf.keras.layers.Dropout( rate = 0.1 ) )\n",
    "\n",
    "model.add( tf.keras.layers.Dense(units=64, activation='relu' ) )\n",
    "#model.add( tf.keras.layers.Dropout( rate = 0.1 ) )\n",
    "\n",
    "model.add( tf.keras.layers.Dense(units=8, activation='relu' ) )\n",
    "#model.add( tf.keras.layers.Dropout( rate = 0.1 ) )\n",
    "\n",
    "model.add( tf.keras.layers.Dense(units=1, activation='sigmoid' ) ) \n",
    "\n",
    "# compile the model\n",
    "model.compile( loss='binary_crossentropy', optimizer='rmsprop', metrics=['acc'])\n",
    "\n",
    "model.summary()"
   ]
  },
  {
   "cell_type": "code",
   "execution_count": 12,
   "id": "7abf48c0",
   "metadata": {},
   "outputs": [],
   "source": [
    "history = model.fit(X_train.values, y_train, epochs=epochs, batch_size=batch_size, validation_split=validation_split, verbose=0)"
   ]
  },
  {
   "cell_type": "code",
   "execution_count": 13,
   "id": "6b616546",
   "metadata": {},
   "outputs": [
    {
     "data": {
      "text/plain": [
       "<matplotlib.legend.Legend at 0x7f87403d1a90>"
      ]
     },
     "execution_count": 13,
     "metadata": {},
     "output_type": "execute_result"
    },
    {
     "data": {
      "image/png": "[encoded data removed]",
      "text/plain": [
       "<Figure size 432x288 with 1 Axes>"
      ]
     },
     "metadata": {
      "needs_background": "light"
     },
     "output_type": "display_data"
    }
   ],
   "source": [
    "history_dict = history.history\n",
    "\n",
    "loss_values  = history_dict['loss']\n",
    "acc_values = history_dict['acc']\n",
    "\n",
    "epochslist = range(1,  len(loss_values)+1)\n",
    "        \n",
    "plt.plot(epochslist, loss_values, 'blue', label='Training loss')\n",
    "plt.plot(epochslist, acc_values,'green', label='Training accuracy')\n",
    "try:\n",
    "    val_loss_values = history_dict['val_loss']\n",
    "    plt.plot(epochslist, val_loss_values, 'red', label='Validation loss')\n",
    "    val_acc_values = history_dict['val_acc']\n",
    "    plt.plot(epochslist, val_acc_values, 'orange', label='Validation accuracy')\n",
    "except KeyError:\n",
    "    print (\"Didn't find validation loss\")\n",
    "\n",
    "plt.title('Training and validation loss (Valid. split = ' + str( validation_split ) + ')')\n",
    "plt.xlabel('Epochs  ( batch_size = ' + str( batch_size ) + ')')\n",
    "plt.ylabel('Loss')\n",
    "plt.legend()"
   ]
  },
  {
   "cell_type": "code",
   "execution_count": 14,
   "id": "687d1e8c",
   "metadata": {},
   "outputs": [],
   "source": [
    "y_test_pred = pd.DataFrame(model.predict( X_test  ) )\n",
    "y_train_pred = pd.DataFrame(model.predict( X_train  ) )"
   ]
  },
  {
   "cell_type": "code",
   "execution_count": 15,
   "id": "2795bc60",
   "metadata": {},
   "outputs": [],
   "source": [
    "fpr_test, tpr_test, thresholds_test = roc_curve( y_test, y_test_pred )\n",
    "fpr_train, tpr_train, thresholds_train = roc_curve( y_train, y_train_pred )"
   ]
  },
  {
   "cell_type": "code",
   "execution_count": 16,
   "id": "e91a882c",
   "metadata": {},
   "outputs": [
    {
     "data": {
      "text/plain": [
       "<matplotlib.legend.Legend at 0x7f87a002db20>"
      ]
     },
     "execution_count": 16,
     "metadata": {},
     "output_type": "execute_result"
    },
    {
     "data": {
      "image/png": "[encoded data removed]",
      "text/plain": [
       "<Figure size 432x288 with 1 Axes>"
      ]
     },
     "metadata": {
      "needs_background": "light"
     },
     "output_type": "display_data"
    }
   ],
   "source": [
    "auc_val_test = auc(fpr_test, tpr_test)\n",
    "auc_val_train = auc(fpr_train, tpr_train)\n",
    "\n",
    "plt.plot( tpr_test, 1-fpr_test, 'b', label= 'Test, AUC=' + str(round(auc_val_test,4)))\n",
    "plt.plot( tpr_train, 1-fpr_train, 'g', label= 'Train, AUC=' + str(round(auc_val_train,4)))\n",
    "\n",
    "plt.xlabel('$\\epsilon_{Sig}$', fontsize = 20) # 'True positive rate'\n",
    "plt.ylabel('$1-\\epsilon_{Back}$', fontsize = 20) #  '1-False positive rate' \n",
    "plt.legend(loc ='lower left')"
   ]
  },
  {
   "cell_type": "code",
   "execution_count": 17,
   "id": "be6d9b5f",
   "metadata": {},
   "outputs": [
    {
     "data": {
      "text/plain": [
       "Text(0, 0.5, 'Events')"
      ]
     },
     "execution_count": 17,
     "metadata": {},
     "output_type": "execute_result"
    },
    {
     "data": {
      "image/png": "[encoded data removed]",
      "text/plain": [
       "<Figure size 432x288 with 1 Axes>"
      ]
     },
     "metadata": {
      "needs_background": "light"
     },
     "output_type": "display_data"
    }
   ],
   "source": [
    "xbin = 20\n",
    "hist, bins, ax = plt.hist( [\n",
    "    y_test_pred[y_test==0].values.flatten(),\n",
    "    y_test_pred[y_test==1].values.flatten(),\n",
    "], xbin, log=False, label=['Background ('+ str((y_test==0).sum()) +')' ,'Signal ('+ str((y_test==1).sum()) +')'], histtype='stepfilled', alpha=0.5) \n",
    "plt.xlabel('NN response')\n",
    "plt.ylabel('Events')"
   ]
  },
  {
   "cell_type": "code",
   "execution_count": 18,
   "id": "9563b416",
   "metadata": {
    "scrolled": false
   },
   "outputs": [
    {
     "data": {
      "text/plain": [
       "Text(0, 0.5, 'Events')"
      ]
     },
     "execution_count": 18,
     "metadata": {},
     "output_type": "execute_result"
    },
    {
     "data": {
      "image/png": "[encoded data removed]",
      "text/plain": [
       "<Figure size 432x288 with 1 Axes>"
      ]
     },
     "metadata": {
      "needs_background": "light"
     },
     "output_type": "display_data"
    }
   ],
   "source": [
    "xbin = 20\n",
    "hist, bins, ax = plt.hist( [\n",
    "    y_train_pred[y_train==0].values.flatten(),\n",
    "    y_train_pred[y_train==1].values.flatten(),\n",
    "], xbin, log=False, label=['Background ('+ str((y_train==0).sum()) +')' ,'Signal ('+ str((y_train==1).sum()) +')'], histtype='stepfilled', alpha=0.5) \n",
    "plt.xlabel('NN response')\n",
    "plt.ylabel('Events')"
   ]
  },
  {
   "cell_type": "markdown",
   "id": "d69c76c2",
   "metadata": {},
   "source": [
    "LBN Model"
   ]
  },
  {
   "cell_type": "code",
   "execution_count": 1,
   "id": "3eef38fd",
   "metadata": {},
   "outputs": [],
   "source": [
    "import uproot\n",
    "import awkward as ak\n",
    "import numpy as np\n",
    "import pandas as pd\n",
    "\n",
    "%matplotlib inline\n",
    "import matplotlib\n",
    "import matplotlib.pyplot as plt\n",
    "from matplotlib.colors import LogNorm\n",
    "\n",
    "import tensorflow as tf\n",
    "\n",
    "from coffea.nanoevents import NanoEventsFactory, NanoAODSchema\n",
    "from coffea.analysis_tools import Weights, PackedSelection\n",
    "\n",
    "from sklearn.metrics import roc_curve, roc_auc_score, auc\n",
    "from sklearn.model_selection import train_test_split\n",
    "from lbn import LBN, LBNLayer\n",
    "from Tools.objects import Collections, choose\n",
    "from Tools.basic_objects import getJets"
   ]
  },
  {
   "cell_type": "code",
   "execution_count": 2,
   "id": "75d33da0",
   "metadata": {},
   "outputs": [],
   "source": [
    "def convertTo4Vec( df ):\n",
    "       \n",
    "    lead_lep = np.array(list(zip(\n",
    "        df['lead_lep_energy'],\n",
    "        df['lead_lep_px'],\n",
    "        df['lead_lep_py'],\n",
    "        df['lead_lep_pz'],\n",
    "    )))\n",
    "    \n",
    "    sublead_lep = np.array(list(zip(\n",
    "        df['sublead_lep_energy'],\n",
    "        df['sublead_lep_px'],\n",
    "        df['sublead_lep_py'],\n",
    "        df['sublead_lep_pz'],\n",
    "    )))\n",
    "\n",
    "    jet1 = np.array(list(zip(\n",
    "        df['j1_energy'],\n",
    "        df['j1_px'],\n",
    "        df['j1_py'],\n",
    "        df['j1_pz'],\n",
    "    )))\n",
    "    \n",
    "    jet2 = np.array(list(zip(\n",
    "        df['j2_energy'],\n",
    "        df['j2_px'],\n",
    "        df['j2_py'],\n",
    "        df['j2_pz'],\n",
    "    )))\n",
    "    \n",
    "    jet3 = np.array(list(zip(\n",
    "        df['j3_energy'],\n",
    "        df['j3_px'],\n",
    "        df['j3_py'],\n",
    "        df['j3_pz'],\n",
    "    )))\n",
    "    \n",
    "    jet4 = np.array(list(zip(\n",
    "        df['j4_energy'],\n",
    "        df['j4_px'],\n",
    "        df['j4_py'],\n",
    "        df['j4_pz'],\n",
    "    )))\n",
    "    \n",
    "    jet5 = np.array(list(zip(\n",
    "        df['j5_energy'],\n",
    "        df['j5_px'],\n",
    "        df['j5_py'],\n",
    "        df['j5_pz'],\n",
    "    )))\n",
    "\n",
    "    particles = np.array(list(zip(lead_lep, sublead_lep, jet1, jet2, jet3, jet4, jet5)))\n",
    "    return particles"
   ]
  },
  {
   "cell_type": "code",
   "execution_count": 3,
   "id": "fdc6d95c",
   "metadata": {},
   "outputs": [],
   "source": [
    "def prepare_data(f_in, selection, robust=False, reuse=False, fout=None, label_ID='label'):\n",
    "\n",
    "    if not reuse:\n",
    "        \n",
    "        df = pd.read_hdf(f_in) # load data processed with ML_processor.py\n",
    "        df = df[selection]\n",
    "\n",
    "\n",
    "        labels = df[label_ID].values\n",
    "        process_labels = df['label'].values\n",
    "        \n",
    "        df = df[(process_labels<5)]\n",
    "        labels = labels[process_labels<5] # filter out high weight DY events\n",
    "\n",
    "        df = df[(labels<5)]\n",
    "        labels = labels[labels<5] # filter out high weight DY events\n",
    "        \n",
    "        df_signal = df[(df[label_ID]==0)]\n",
    "        df_bkg    = df[(df[label_ID]==1)]\n",
    "        df_in = pd.concat([df_signal, df_bkg])\n",
    "        labels = df_in[label_ID].values\n",
    "        \n",
    "\n",
    "        df_train, df_test, y_train, y_test = train_test_split(df_in, labels, train_size= int( 0.9*labels.shape[0] ), random_state=42 )\n",
    "\n",
    "        df_train['test_label'] = np.zeros(len(df_train))\n",
    "        df_test['test_label'] = np.ones(len(df_test))\n",
    "\n",
    "        df = pd.concat([df_train, df_test])\n",
    "\n",
    "        if fout:\n",
    "            df.to_hdf(fout, key='df', format='table', mode='w')\n",
    "\n",
    "    else:\n",
    "        df = pd.read_hdf(f_in)\n",
    "\n",
    "        df_train = df[df['test_label']==0]\n",
    "        df_test = df[df['test_label']==1]\n",
    "\n",
    "        y_train = df_train[label_ID].values\n",
    "        y_test = df_test[label_ID].values\n",
    "\n",
    "    for i in range(5):\n",
    "        print (\"Number of events in category %s:\"%i, len(df[df[label_ID]==i]))\n",
    "\n",
    "    return df_train, df_test, y_train, y_test#, df_mean, df_std\n",
    "\n"
   ]
  },
  {
   "cell_type": "code",
   "execution_count": 4,
   "id": "b00c312d",
   "metadata": {},
   "outputs": [
    {
     "name": "stderr",
     "output_type": "stream",
     "text": [
      "<ipython-input-3-ff6b6e557f06>:26: SettingWithCopyWarning: \n",
      "A value is trying to be set on a copy of a slice from a DataFrame.\n",
      "Try using .loc[row_indexer,col_indexer] = value instead\n",
      "\n",
      "See the caveats in the documentation: https://pandas.pydata.org/pandas-docs/stable/user_guide/indexing.html#returning-a-view-versus-a-copy\n",
      "  df_train['test_label'] = np.zeros(len(df_train))\n",
      "<ipython-input-3-ff6b6e557f06>:27: SettingWithCopyWarning: \n",
      "A value is trying to be set on a copy of a slice from a DataFrame.\n",
      "Try using .loc[row_indexer,col_indexer] = value instead\n",
      "\n",
      "See the caveats in the documentation: https://pandas.pydata.org/pandas-docs/stable/user_guide/indexing.html#returning-a-view-versus-a-copy\n",
      "  df_test['test_label'] = np.ones(len(df_test))\n"
     ]
    },
    {
     "name": "stdout",
     "output_type": "stream",
     "text": [
      "Number of events in category 0: 88155\n",
      "Number of events in category 1: 41409\n",
      "Number of events in category 2: 0\n",
      "Number of events in category 3: 0\n",
      "Number of events in category 4: 0\n"
     ]
    }
   ],
   "source": [
    "df = pd.read_hdf('/hadoop/cms/store/user/dspitzba/ML/multiclass_input_v4.h5')\n",
    "preselection = ((df['n_jet']>2) & (df['n_btag']>0) & (df['n_lep_tight']==2) & (df['n_fwd']>0))\n",
    "df_train, df_test, y_train, y_test = prepare_data('/hadoop/cms/store/user/dspitzba/ML/multiclass_input_v4.h5', preselection, reuse=False, fout='data/multiclass_input_v4_split_%s.h5', label_ID='label')\n",
    "\n",
    "                  \n",
    "X_train = convertTo4Vec(df_train)\n",
    "X_test  = convertTo4Vec(df_test)"
   ]
  },
  {
   "cell_type": "code",
   "execution_count": 5,
   "id": "5f08eb00",
   "metadata": {},
   "outputs": [],
   "source": [
    "epochs = 50  # 50 -> 200\n",
    "batch_size = 5120\n",
    "validation_split = 0.2"
   ]
  },
  {
   "cell_type": "code",
   "execution_count": 20,
   "id": "bcc7fca9",
   "metadata": {},
   "outputs": [],
   "source": [
    "# start a sequential model\n",
    "model = tf.keras.models.Sequential()\n",
    "\n",
    "# add the LBN layer\n",
    "lbn_layer = LBNLayer((7, 4), n_particles=7, boost_mode=LBN.PAIRS, features=[\"E\", \"pt\", \"eta\", \"phi\", \"m\", \"pair_cos\"])\n",
    "\n",
    "model.add(lbn_layer)\n",
    "\n",
    "model.add( tf.keras.layers.Dense(units=8, activation='gelu' ) )\n",
    "model.add( tf.keras.layers.Dense(units=64, activation='gelu' ) )\n",
    "model.add( tf.keras.layers.Dropout( rate = 0.3 ) )\n",
    "model.add( tf.keras.layers.Dense(units=128, activation='gelu' ) )\n",
    "model.add( tf.keras.layers.Dropout( rate = 0.3 ) )\n",
    "model.add( tf.keras.layers.Dense(units=256, activation='gelu') )\n",
    "model.add( tf.keras.layers.Dense(units=128, activation='gelu') )\n",
    "model.add( tf.keras.layers.Dense(units=64, activation='relu' ) )\n",
    "model.add( tf.keras.layers.Dense(units=8, activation='relu' ) )\n",
    "model.add( tf.keras.layers.Dense(units=1, activation='sigmoid' ) ) \n",
    "\n",
    "\n",
    "\n",
    "\n",
    "\n",
    "\n",
    "# compile the model\n",
    "model.compile( loss='binary_crossentropy', optimizer='RMSprop', metrics=['acc'])\n",
    "\n",
    "#model.compile(loss=\"categorical_crossentropy\")\n",
    "\n",
    "features = model.predict(X_train)"
   ]
  },
  {
   "cell_type": "code",
   "execution_count": 21,
   "id": "3d668513",
   "metadata": {},
   "outputs": [],
   "source": [
    "history = model.fit(X_train, y_train, epochs=100, batch_size=batch_size, validation_split=validation_split, verbose=0)"
   ]
  },
  {
   "cell_type": "code",
   "execution_count": 22,
   "id": "74263235",
   "metadata": {},
   "outputs": [
    {
     "data": {
      "text/plain": [
       "<matplotlib.legend.Legend at 0x7f4fe66df190>"
      ]
     },
     "execution_count": 22,
     "metadata": {},
     "output_type": "execute_result"
    },
    {
     "data": {
      "image/png": "[encoded data removed]",
      "text/plain": [
       "<Figure size 432x288 with 1 Axes>"
      ]
     },
     "metadata": {
      "needs_background": "light"
     },
     "output_type": "display_data"
    }
   ],
   "source": [
    "history_dict = history.history\n",
    "\n",
    "loss_values  = history_dict['loss']\n",
    "acc_values = history_dict['acc']\n",
    "\n",
    "epochslist = range(1,  len(loss_values)+1)\n",
    "        \n",
    "plt.plot(epochslist, loss_values, color='blue', label='Training loss')\n",
    "plt.plot(epochslist, acc_values, color='green', label='Training accuracy')\n",
    "try:\n",
    "    val_loss_values = history_dict['val_loss']\n",
    "    plt.plot(epochslist, val_loss_values, color='red', label='Validation loss')\n",
    "    val_acc_values = history_dict['val_acc']\n",
    "    plt.plot(epochslist, val_acc_values, color='orange', label='Validation accuracy')\n",
    "except KeyError:\n",
    "    print (\"Didn't find validation loss\")\n",
    "\n",
    "plt.title('Training and validation loss (Valid. split = ' + str( validation_split ) + ')')\n",
    "plt.xlabel('Epochs  ( batch_size = ' + str( batch_size ) + ')')\n",
    "plt.ylabel('Loss')\n",
    "plt.legend()"
   ]
  },
  {
   "cell_type": "code",
   "execution_count": 23,
   "id": "f49e9441",
   "metadata": {},
   "outputs": [],
   "source": [
    "y_test_pred = pd.DataFrame(model.predict( X_test  ) )\n",
    "y_train_pred = pd.DataFrame(model.predict( X_train  ) )\n",
    "\n",
    "fpr_test, tpr_test, thresholds_test = roc_curve( y_test, y_test_pred )\n",
    "fpr_train, tpr_train, thresholds_train = roc_curve( y_train, y_train_pred )"
   ]
  },
  {
   "cell_type": "code",
   "execution_count": 24,
   "id": "6fda3ecf",
   "metadata": {},
   "outputs": [
    {
     "data": {
      "text/plain": [
       "<matplotlib.legend.Legend at 0x7f4fe6a1ed90>"
      ]
     },
     "execution_count": 24,
     "metadata": {},
     "output_type": "execute_result"
    },
    {
     "data": {
      "image/png": "[encoded data removed]",
      "text/plain": [
       "<Figure size 432x288 with 1 Axes>"
      ]
     },
     "metadata": {
      "needs_background": "light"
     },
     "output_type": "display_data"
    }
   ],
   "source": [
    "auc_val_test = auc(fpr_test, tpr_test)\n",
    "auc_val_train = auc(fpr_train, tpr_train)\n",
    "\n",
    "plt.plot( tpr_test, 1-fpr_test, 'b', label= 'Test, AUC=' + str(round(auc_val_test,4)))\n",
    "plt.plot( tpr_train, 1-fpr_train, 'g', label= 'Train, AUC=' + str(round(auc_val_train,4)))\n",
    "\n",
    "plt.xlabel('$\\epsilon_{Sig}$', fontsize = 20) # 'True positive rate'\n",
    "plt.ylabel('$1-\\epsilon_{Back}$', fontsize = 20) #  '1-False positive rate' \n",
    "plt.legend(loc ='lower left')"
   ]
  },
  {
   "cell_type": "code",
   "execution_count": 25,
   "id": "e515b52a",
   "metadata": {},
   "outputs": [
    {
     "data": {
      "text/plain": [
       "Text(0, 0.5, 'Events')"
      ]
     },
     "execution_count": 25,
     "metadata": {},
     "output_type": "execute_result"
    },
    {
     "data": {
      "image/png": "[encoded data removed]",
      "text/plain": [
       "<Figure size 432x288 with 1 Axes>"
      ]
     },
     "metadata": {
      "needs_background": "light"
     },
     "output_type": "display_data"
    }
   ],
   "source": [
    "xbin = 20\n",
    "hist, bins, ax = plt.hist( [\n",
    "    y_test_pred[y_test==0].values.flatten(),\n",
    "    y_test_pred[y_test==1].values.flatten(),\n",
    "], xbin, log=False, label=['Background ('+ str((y_test==0).sum()) +')' ,'Signal ('+ str((y_test==1).sum()) +')'], histtype='stepfilled', alpha=0.5) \n",
    "plt.xlabel('NN response')\n",
    "plt.ylabel('Events')"
   ]
  },
  {
   "cell_type": "code",
   "execution_count": 26,
   "id": "079fdd61",
   "metadata": {},
   "outputs": [
    {
     "data": {
      "text/plain": [
       "Text(0, 0.5, 'Events')"
      ]
     },
     "execution_count": 26,
     "metadata": {},
     "output_type": "execute_result"
    },
    {
     "data": {
      "image/png": "[encoded data removed]",
      "text/plain": [
       "<Figure size 432x288 with 1 Axes>"
      ]
     },
     "metadata": {
      "needs_background": "light"
     },
     "output_type": "display_data"
    }
   ],
   "source": [
    "xbin = 20\n",
    "hist, bins, ax = plt.hist( [\n",
    "    y_train_pred[y_train==0].values.flatten(),\n",
    "    y_train_pred[y_train==1].values.flatten(),\n",
    "], xbin, log=False, label=['Background ('+ str((y_train==0).sum()) +')' ,'Signal ('+ str((y_train==1).sum()) +')'], histtype='stepfilled', alpha=0.5) \n",
    "plt.xlabel('NN response')\n",
    "plt.ylabel('Events')"
   ]
  },
  {
   "cell_type": "code",
   "execution_count": null,
   "id": "0c8f5cfe",
   "metadata": {},
   "outputs": [],
   "source": []
  },
  {
   "cell_type": "code",
   "execution_count": null,
   "id": "2e2e786d",
   "metadata": {},
   "outputs": [],
   "source": []
  }
 ],
 "metadata": {
  "kernelspec": {
   "display_name": "coffea_ML",
   "language": "python",
   "name": "coffea_ml"
  },
  "language_info": {
   "codemirror_mode": {
    "name": "ipython",
    "version": 3
   },
   "file_extension": ".py",
   "mimetype": "text/x-python",
   "name": "python",
   "nbconvert_exporter": "python",
   "pygments_lexer": "ipython3",
   "version": "3.9.4"
  }
 },
 "nbformat": 4,
 "nbformat_minor": 5
}
