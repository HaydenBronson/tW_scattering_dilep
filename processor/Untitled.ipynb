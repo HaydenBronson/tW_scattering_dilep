{
 "cells": [
  {
   "cell_type": "code",
   "execution_count": 2,
   "id": "interpreted-practitioner",
   "metadata": {},
   "outputs": [],
   "source": [
    "import awkward as ak\n",
    "\n",
    "from coffea import processor, hist\n",
    "from coffea.nanoevents import NanoEventsFactory, NanoAODSchema\n",
    "from coffea.analysis_tools import Weights, PackedSelection\n",
    "\n",
    "import numpy as np\n",
    "\n",
    "from Tools.objects import * #if there is an issue after pulling tools remove ../\n",
    "from Tools.basic_objects import *\n",
    "from Tools.cutflow import *\n",
    "from Tools.config_helpers import *\n",
    "from Tools.triggers import *\n",
    "from Tools.btag_scalefactors import *\n",
    "from Tools.ttH_lepton_scalefactors import *\n",
    "from Tools.lepton_scalefactors import *\n",
    "from klepto.archives import dir_archive\n",
    "from Tools.samples import * # fileset_2018 #, fileset_2018_small\n",
    "from processor.std_acumulators import *"
   ]
  },
  {
   "cell_type": "code",
   "execution_count": 5,
   "id": "developed-alpha",
   "metadata": {},
   "outputs": [],
   "source": [
    "tW_file = fileset_2018['tW_scattering']\n",
    "ttbar_file = fileset_2018['ttbar2l']\n",
    "WW_file = fileset_2018['WW']\n",
    "WZ_file = fileset_2018['WZ']\n",
    "DY_file = fileset_2018['DY']"
   ]
  },
  {
   "cell_type": "code",
   "execution_count": 6,
   "id": "viral-penetration",
   "metadata": {},
   "outputs": [
    {
     "ename": "AttributeError",
     "evalue": "'list' object has no attribute 'Jet'",
     "output_type": "error",
     "traceback": [
      "\u001b[0;31m---------------------------------------------------------------------------\u001b[0m",
      "\u001b[0;31mAttributeError\u001b[0m                            Traceback (most recent call last)",
      "\u001b[0;32m<ipython-input-6-b7a38dff36b6>\u001b[0m in \u001b[0;36m<module>\u001b[0;34m()\u001b[0m\n\u001b[0;32m----> 1\u001b[0;31m \u001b[0mjet\u001b[0m \u001b[0;34m=\u001b[0m \u001b[0mgetJets\u001b[0m\u001b[0;34m(\u001b[0m\u001b[0mtW_file\u001b[0m\u001b[0;34m,\u001b[0m \u001b[0mminPt\u001b[0m\u001b[0;34m=\u001b[0m\u001b[0;36m0\u001b[0m\u001b[0;34m,\u001b[0m \u001b[0mpt_var\u001b[0m\u001b[0;34m=\u001b[0m\u001b[0;34m'pt_nom'\u001b[0m\u001b[0;34m)\u001b[0m\u001b[0;34m\u001b[0m\u001b[0;34m\u001b[0m\u001b[0m\n\u001b[0m\u001b[1;32m      2\u001b[0m \u001b[0mjet\u001b[0m \u001b[0;34m=\u001b[0m \u001b[0mjet\u001b[0m\u001b[0;34m[\u001b[0m\u001b[0mak\u001b[0m\u001b[0;34m.\u001b[0m\u001b[0margsort\u001b[0m\u001b[0;34m(\u001b[0m\u001b[0mjet\u001b[0m\u001b[0;34m.\u001b[0m\u001b[0mpt_nom\u001b[0m\u001b[0;34m,\u001b[0m \u001b[0mascending\u001b[0m\u001b[0;34m=\u001b[0m\u001b[0;32mFalse\u001b[0m\u001b[0;34m)\u001b[0m\u001b[0;34m]\u001b[0m\u001b[0;34m\u001b[0m\u001b[0;34m\u001b[0m\u001b[0m\n\u001b[1;32m      3\u001b[0m \u001b[0mjet\u001b[0m \u001b[0;34m=\u001b[0m \u001b[0mjet\u001b[0m\u001b[0;34m[\u001b[0m\u001b[0;34m~\u001b[0m\u001b[0mmatch\u001b[0m\u001b[0;34m(\u001b[0m\u001b[0mjet\u001b[0m\u001b[0;34m,\u001b[0m \u001b[0mmuon\u001b[0m\u001b[0;34m,\u001b[0m \u001b[0mdeltaRCut\u001b[0m\u001b[0;34m=\u001b[0m\u001b[0;36m0.4\u001b[0m\u001b[0;34m)\u001b[0m\u001b[0;34m]\u001b[0m\u001b[0;34m\u001b[0m\u001b[0;34m\u001b[0m\u001b[0m\n\u001b[1;32m      4\u001b[0m \u001b[0mjet\u001b[0m \u001b[0;34m=\u001b[0m \u001b[0mjet\u001b[0m\u001b[0;34m[\u001b[0m\u001b[0;34m~\u001b[0m\u001b[0mmatch\u001b[0m\u001b[0;34m(\u001b[0m\u001b[0mjet\u001b[0m\u001b[0;34m,\u001b[0m \u001b[0melectron\u001b[0m\u001b[0;34m,\u001b[0m \u001b[0mdeltaRCut\u001b[0m\u001b[0;34m=\u001b[0m\u001b[0;36m0.4\u001b[0m\u001b[0;34m)\u001b[0m\u001b[0;34m]\u001b[0m\u001b[0;34m\u001b[0m\u001b[0;34m\u001b[0m\u001b[0m\n\u001b[1;32m      5\u001b[0m \u001b[0mlight\u001b[0m     \u001b[0;34m=\u001b[0m \u001b[0mgetBTagsDeepFlavB\u001b[0m\u001b[0;34m(\u001b[0m\u001b[0mjet\u001b[0m\u001b[0;34m,\u001b[0m \u001b[0myear\u001b[0m\u001b[0;34m=\u001b[0m\u001b[0mself\u001b[0m\u001b[0;34m.\u001b[0m\u001b[0myear\u001b[0m\u001b[0;34m,\u001b[0m \u001b[0minvert\u001b[0m\u001b[0;34m=\u001b[0m\u001b[0;32mTrue\u001b[0m\u001b[0;34m)\u001b[0m\u001b[0;34m\u001b[0m\u001b[0;34m\u001b[0m\u001b[0m\n",
      "\u001b[0;32m/home/users/zmei/new_CMSSW/CMSSW_10_2_9/src/tW_scattering_dilep/Tools/basic_objects.py\u001b[0m in \u001b[0;36mgetJets\u001b[0;34m(ev, maxEta, minPt, pt_var)\u001b[0m\n\u001b[1;32m     33\u001b[0m \u001b[0;34m\u001b[0m\u001b[0m\n\u001b[1;32m     34\u001b[0m \u001b[0;32mdef\u001b[0m \u001b[0mgetJets\u001b[0m\u001b[0;34m(\u001b[0m\u001b[0mev\u001b[0m\u001b[0;34m,\u001b[0m \u001b[0mmaxEta\u001b[0m\u001b[0;34m=\u001b[0m\u001b[0;36m100\u001b[0m\u001b[0;34m,\u001b[0m \u001b[0mminPt\u001b[0m\u001b[0;34m=\u001b[0m\u001b[0;36m25\u001b[0m\u001b[0;34m,\u001b[0m \u001b[0mpt_var\u001b[0m\u001b[0;34m=\u001b[0m\u001b[0;34m'pt'\u001b[0m\u001b[0;34m)\u001b[0m\u001b[0;34m:\u001b[0m\u001b[0;34m\u001b[0m\u001b[0;34m\u001b[0m\u001b[0m\n\u001b[0;32m---> 35\u001b[0;31m     \u001b[0;32mreturn\u001b[0m \u001b[0mev\u001b[0m\u001b[0;34m.\u001b[0m\u001b[0mJet\u001b[0m\u001b[0;34m[\u001b[0m\u001b[0;34m(\u001b[0m\u001b[0mgetattr\u001b[0m\u001b[0;34m(\u001b[0m\u001b[0mev\u001b[0m\u001b[0;34m.\u001b[0m\u001b[0mJet\u001b[0m\u001b[0;34m,\u001b[0m \u001b[0mpt_var\u001b[0m\u001b[0;34m)\u001b[0m\u001b[0;34m>\u001b[0m\u001b[0mminPt\u001b[0m\u001b[0;34m)\u001b[0m \u001b[0;34m&\u001b[0m \u001b[0;34m(\u001b[0m\u001b[0mabs\u001b[0m\u001b[0;34m(\u001b[0m\u001b[0mev\u001b[0m\u001b[0;34m.\u001b[0m\u001b[0mJet\u001b[0m\u001b[0;34m.\u001b[0m\u001b[0meta\u001b[0m\u001b[0;34m)\u001b[0m\u001b[0;34m<\u001b[0m\u001b[0mmaxEta\u001b[0m\u001b[0;34m)\u001b[0m \u001b[0;34m&\u001b[0m \u001b[0;34m(\u001b[0m\u001b[0mev\u001b[0m\u001b[0;34m.\u001b[0m\u001b[0mJet\u001b[0m\u001b[0;34m.\u001b[0m\u001b[0mjetId\u001b[0m\u001b[0;34m>\u001b[0m\u001b[0;36m1\u001b[0m\u001b[0;34m)\u001b[0m\u001b[0;34m]\u001b[0m\u001b[0;34m\u001b[0m\u001b[0;34m\u001b[0m\u001b[0m\n\u001b[0m\u001b[1;32m     36\u001b[0m \u001b[0;34m\u001b[0m\u001b[0m\n\u001b[1;32m     37\u001b[0m \u001b[0;32mdef\u001b[0m \u001b[0mgetBTagsDeepB\u001b[0m\u001b[0;34m(\u001b[0m\u001b[0mjet\u001b[0m\u001b[0;34m,\u001b[0m \u001b[0myear\u001b[0m\u001b[0;34m=\u001b[0m\u001b[0;36m2016\u001b[0m\u001b[0;34m,\u001b[0m \u001b[0minvert\u001b[0m\u001b[0;34m=\u001b[0m\u001b[0;32mFalse\u001b[0m\u001b[0;34m)\u001b[0m\u001b[0;34m:\u001b[0m\u001b[0;34m\u001b[0m\u001b[0;34m\u001b[0m\u001b[0m\n",
      "\u001b[0;31mAttributeError\u001b[0m: 'list' object has no attribute 'Jet'"
     ]
    }
   ],
   "source": [
    "jet = getJets(tW_file, minPt=0, pt_var='pt_nom')\n",
    "jet = jet[ak.argsort(jet.pt_nom, ascending=False)]\n",
    "jet = jet[~match(jet, muon, deltaRCut=0.4)]\n",
    "jet = jet[~match(jet, electron, deltaRCut=0.4)]\n",
    "light     = getBTagsDeepFlavB(jet, year=self.year, invert=True)\n",
    "fw        = getFwdJet(light)"
   ]
  },
  {
   "cell_type": "code",
   "execution_count": 120,
   "id": "forced-conservation",
   "metadata": {},
   "outputs": [],
   "source": [
    "ev = NanoEventsFactory.from_root(ttbar_file[0], schemaclass=NanoAODSchema).events()"
   ]
  },
  {
   "cell_type": "code",
   "execution_count": 121,
   "id": "congressional-columbus",
   "metadata": {},
   "outputs": [
    {
     "data": {
      "text/plain": [
       "<NanoEventsArray [<event 1:5723:5722009>, ... ] type='179226 * event'>"
      ]
     },
     "execution_count": 121,
     "metadata": {},
     "output_type": "execute_result"
    }
   ],
   "source": [
    "ttbar_ev"
   ]
  },
  {
   "cell_type": "code",
   "execution_count": 122,
   "id": "unknown-tissue",
   "metadata": {},
   "outputs": [],
   "source": [
    "jet = getJets(ev, minPt=0, pt_var='pt_nom')\n",
    "jet = jet[ak.argsort(jet.pt_nom, ascending=False)]\n",
    "light     = getBTagsDeepFlavB(jet, year=2018, invert=True)\n",
    "fw        = getFwdJet(light)"
   ]
  },
  {
   "cell_type": "code",
   "execution_count": 123,
   "id": "caroline-tooth",
   "metadata": {},
   "outputs": [],
   "source": [
    "weight = Weights(len(ev))\n",
    "weight.add(\"weight\", ev.weight*cfg['lumi'][2018])"
   ]
  },
  {
   "cell_type": "code",
   "execution_count": 124,
   "id": "raised-stock",
   "metadata": {},
   "outputs": [],
   "source": [
    "muon = Collections(ev, \"Muon\", \"tight\").get()\n",
    "dimuon = choose(muon, 2)\n",
    "electron = Collections(ev, \"Electron\", \"tight\").get()\n",
    "dielectron = choose(electron,2)\n",
    "lepton = ak.concatenate([muon, electron], axis=1)"
   ]
  },
  {
   "cell_type": "code",
   "execution_count": 127,
   "id": "looking-layer",
   "metadata": {},
   "outputs": [],
   "source": [
    "event_selection = (ak.num(lepton, axis=1) > 10 & (ak.num(lepton, axis = 1) <=10))"
   ]
  },
  {
   "cell_type": "code",
   "execution_count": 128,
   "id": "impossible-recorder",
   "metadata": {},
   "outputs": [
    {
     "data": {
      "text/plain": [
       "<Array [[], [69.2], [], ... [], [85], [142]] type='113095 * var * float32[parame...'>"
      ]
     },
     "execution_count": 128,
     "metadata": {},
     "output_type": "execute_result"
    }
   ],
   "source": [
    "fw[event_selection].pt"
   ]
  },
  {
   "cell_type": "code",
   "execution_count": 112,
   "id": "biological-dragon",
   "metadata": {},
   "outputs": [
    {
     "data": {
      "text/plain": [
       "<Array [78.1, 75.1, 125, ... 48.8, 77.4, 256] type='192096 * float32[parameters=...'>"
      ]
     },
     "execution_count": 112,
     "metadata": {},
     "output_type": "execute_result"
    }
   ],
   "source": [
    "ak.flatten(fw[event_selection].pt, axis=1)"
   ]
  },
  {
   "cell_type": "code",
   "execution_count": 108,
   "id": "robust-holly",
   "metadata": {},
   "outputs": [
    {
     "data": {
      "text/plain": [
       "<Array [0.452, 0.452, 0.452, ... 0.452, 0.452] type='192096 * float64'>"
      ]
     },
     "execution_count": 108,
     "metadata": {},
     "output_type": "execute_result"
    }
   ],
   "source": [
    "ak.flatten(ak.ones_like(fw[event_selection].pt)*weight.weight()[event_selection])"
   ]
  },
  {
   "cell_type": "code",
   "execution_count": 93,
   "id": "outdoor-antenna",
   "metadata": {},
   "outputs": [
    {
     "data": {
      "text/plain": [
       "<Array [[], [], [], [], ... [], [], [], []] type='441337 * var * bool'>"
      ]
     },
     "execution_count": 93,
     "metadata": {},
     "output_type": "execute_result"
    }
   ],
   "source": [
    "abs(dimuon.mass-91.2)>15"
   ]
  },
  {
   "cell_type": "code",
   "execution_count": 95,
   "id": "modern-junction",
   "metadata": {},
   "outputs": [
    {
     "data": {
      "text/plain": [
       "<Array [False, False, False, ... False, False] type='441337 * bool'>"
      ]
     },
     "execution_count": 95,
     "metadata": {},
     "output_type": "execute_result"
    }
   ],
   "source": [
    "(ak.any(abs(dimuon.mass-91.2)>15, axis=1) & ak.any(abs(dielectron.mass-91.2)>15, axis=1))"
   ]
  },
  {
   "cell_type": "code",
   "execution_count": 90,
   "id": "peripheral-remove",
   "metadata": {},
   "outputs": [
    {
     "data": {
      "text/plain": [
       "<Array [False, True, False, ... True, True] type='441337 * bool'>"
      ]
     },
     "execution_count": 90,
     "metadata": {},
     "output_type": "execute_result"
    }
   ],
   "source": [
    "ak.num(lepton, axis=1) >= 1"
   ]
  },
  {
   "cell_type": "code",
   "execution_count": 96,
   "id": "electoral-trustee",
   "metadata": {},
   "outputs": [
    {
     "data": {
      "text/plain": [
       "<Array [[True], [], [True], ... [], [True], []] type='441337 * var * bool'>"
      ]
     },
     "execution_count": 96,
     "metadata": {},
     "output_type": "execute_result"
    }
   ],
   "source": [
    "fw.pt>40"
   ]
  },
  {
   "cell_type": "code",
   "execution_count": null,
   "id": "french-stake",
   "metadata": {},
   "outputs": [],
   "source": []
  }
 ],
 "metadata": {
  "kernelspec": {
   "display_name": "Python 3",
   "language": "python",
   "name": "python3"
  },
  "language_info": {
   "codemirror_mode": {
    "name": "ipython",
    "version": 3
   },
   "file_extension": ".py",
   "mimetype": "text/x-python",
   "name": "python",
   "nbconvert_exporter": "python",
   "pygments_lexer": "ipython3",
   "version": "3.6.12"
  }
 },
 "nbformat": 4,
 "nbformat_minor": 5
}
