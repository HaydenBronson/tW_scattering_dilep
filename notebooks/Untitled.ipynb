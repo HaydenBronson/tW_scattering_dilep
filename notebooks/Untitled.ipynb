{
 "cells": [
  {
   "cell_type": "code",
   "execution_count": null,
   "id": "sealed-venue",
   "metadata": {},
   "outputs": [],
   "source": [
    "%load_ext autoreload\n",
    "%autoreload 2"
   ]
  },
  {
   "cell_type": "code",
   "execution_count": null,
   "id": "ecological-blast",
   "metadata": {},
   "outputs": [],
   "source": [
    "import awkward as ak\n",
    "import os\n"
   ]
  },
  {
   "cell_type": "code",
   "execution_count": null,
   "id": "humanitarian-burlington",
   "metadata": {},
   "outputs": [],
   "source": [
    "import os\n",
    "import uproot3"
   ]
  },
  {
   "cell_type": "code",
   "execution_count": null,
   "id": "imposed-classroom",
   "metadata": {},
   "outputs": [],
   "source": [
    "f_in = uproot3.open(os.path.expandvars('$TWHOME/data/trigger/TriggerSF_2016.root'))"
   ]
  },
  {
   "cell_type": "code",
   "execution_count": null,
   "id": "forbidden-undergraduate",
   "metadata": {},
   "outputs": [],
   "source": [
    "from coffea.nanoevents import NanoEventsFactory, NanoAODSchema\n",
    "from coffea.analysis_tools import Weights, PackedSelection\n",
    "\n",
    "from Tools.samples import fileset_2018, fileset_2018_small\n",
    "from Tools.config_helpers import redirector_fnal, redirector_ucsd\n",
    "#from Tools.nano_mapping import make_fileset\n",
    "from Tools.helpers import *\n",
    "\n",
    "import awkward as ak\n",
    "\n",
    "samples = get_samples()\n",
    "\n",
    "fileset = {\n",
    "    'topW_v3': fileset_2018['topW_v3'],\n",
    "    'topW_EFT_cp8': fileset_2018['topW_EFT_cp8'],\n",
    "    'topW_EFT_mix': fileset_2018['topW_EFT_mix'],\n",
    "    'TTW': fileset_2018['TTW'],\n",
    "    'TTZ': fileset_2018['TTZ'],\n",
    "    'TTH': fileset_2018['TTH'],\n",
    "    'diboson': fileset_2018['diboson'],\n",
    "    'ttbar': fileset_2018['top2l'],\n",
    "    'DY': fileset_2018['DY'],\n",
    "    'MuonEG': fileset_2018['MuonEG'],\n",
    "    'DoubleMuon': fileset_2018['DoubleMuon'],\n",
    "    #'EGamma': fileset_2018['EGamma'],\n",
    "}\n",
    "\n",
    "# load a subset of events\n",
    "n_max = 500000\n",
    "events = NanoEventsFactory.from_root(\n",
    "    fileset[list(fileset.keys())[1]][0],\n",
    "    schemaclass = NanoAODSchema,\n",
    "    entry_stop = n_max).events()\n",
    "\n",
    "ev = events"
   ]
  },
  {
   "cell_type": "code",
   "execution_count": null,
   "id": "stuck-encyclopedia",
   "metadata": {},
   "outputs": [],
   "source": [
    "from Tools.triggers import *\n",
    "from Tools.btag_scalefactors import *\n",
    "from Tools.trigger_scalefactors import *\n",
    "from Tools.ttH_lepton_scalefactors import *\n",
    "from Tools.objects import Collections\n",
    "from Tools.objects import * \n",
    "from Tools.ttH_lepton_scalefactors import *\n",
    "from Tools.config_helpers import loadConfig, make_small\n",
    "from Tools.basic_objects import *\n",
    "electron     = Collections(ev, \"Electron\", \"vetoTTH\").get()\n",
    "muon     = Collections(ev, \"Muon\", \"vetoTTH\").get()\n",
    "jet       = getJets(ev, minPt=25, maxEta=4.7, pt_var='pt_nom')\n",
    "jet       = jet[ak.argsort(jet.pt_nom, ascending=False)] # need to sort wrt smeared and recorrected jet pt\n",
    "jet       = jet[~match(jet, muon, deltaRCut=0.4)] # remove jets that overlap with muons\n",
    "jet       = jet[~match(jet, electron, deltaRCut=0.4)] #\n",
    "light     = getBTagsDeepFlavB(jet, year=2017, invert=True)\n",
    "\n",
    "#btag      = getBTagsDeepFlavB(jet, year=2017)\n",
    "TriggerSF = triggerSF(2017)\n",
    "#LeptonSF = LeptonSF(2017)\n",
    "#BtagSF = btag_scalefactor(2017)\n",
    "#cfg = loadConfig()\n"
   ]
  },
  {
   "cell_type": "code",
   "execution_count": null,
   "id": "narrow-dragon",
   "metadata": {},
   "outputs": [],
   "source": [
    "'''weight = Weights( len(ev) )\n",
    "\n",
    "weight.add(\"weight\", ev.weight*cfg['lumi'][2017])\n",
    "print(weight.weight())\n",
    "weight.add(\"PU\", ev.puWeight, weightUp=ev.puWeightUp, weightDown=ev.puWeightDown, shift=False)\n",
    "print(weight.weight())\n",
    "weight.add(\"btag\", BtagSF.Method1a(btag, light))\n",
    "print(weight.weight())\n",
    "weight.add(\"lepton\", LeptonSF.get(electron, muon))\n",
    "print(weight.weight())\n",
    "weight.add(\"trigger\", TriggerSF.get(electron, muon))\n",
    "print((weight.weight()))'''\n",
    "trigger_weight = TriggerSF.get(electron, muon) \n",
    "#lepton_weight = LeptonSF.get(electron, muon) "
   ]
  },
  {
   "cell_type": "code",
   "execution_count": null,
   "id": "purple-liquid",
   "metadata": {},
   "outputs": [],
   "source": [
    "ee = choose(electron)\n",
    "mumu = choose(muon)\n",
    "emu = cross(muon, electron)\n",
    "cat = ak.concatenate([ee, mumu, emu], axis=1)\n",
    "#print(cat)\n",
    "#print(cat.pt)\n",
    "#print(type(emu))\n",
    "#print(type(mumu))\n",
    "\n",
    "#print(cat.pt)\n",
    "#print(ee.pt)\n",
    "#print(emu.pt)\n",
    "#print(mumu.pt)"
   ]
  },
  {
   "cell_type": "code",
   "execution_count": null,
   "id": "anonymous-divorce",
   "metadata": {},
   "outputs": [],
   "source": [
    "print(electron)\n",
    "print(muon)\n",
    "#print((ak.concatenate([electron,muon], axis=1)))\n",
    "#dilep = choose(cat)\n",
    "#print(dilep)\n",
    "#print(lepton_weight)\n",
    "\n",
    "print(trigger_weight)\n",
    "#tmp =((trigger_weight/trigger_weight)*trigger_weight)\n",
    "#trigger_weight = np.where(np.isnan(tmp), 1, tmp)\n",
    "#trigger_weight = (pad_and_flatten(trigger_weight*(cat.pt/cat.pt)))\n",
    "#trigger_weight = (trigger_weight/trigger_weight)*trigger_weight\n",
    "#print(np.where(np.isnan(trigger_weight), 1, trigger_weight))"
   ]
  },
  {
   "cell_type": "code",
   "execution_count": null,
   "id": "broad-poster",
   "metadata": {},
   "outputs": [],
   "source": [
    "#print((ee.pt/ee.pt + mumu.pt/mumu.pt + emu.pt/emu.pt)) \n",
    "#print(type(mumu)) \n",
    "#print((emu))\n",
    "#print(ee+mumu)"
   ]
  },
  {
   "cell_type": "code",
   "execution_count": null,
   "id": "answering-colonial",
   "metadata": {},
   "outputs": [],
   "source": []
  },
  {
   "cell_type": "code",
   "execution_count": null,
   "id": "lasting-poetry",
   "metadata": {},
   "outputs": [],
   "source": []
  }
 ],
 "metadata": {
  "kernelspec": {
   "display_name": "Python 3",
   "language": "python",
   "name": "python3"
  },
  "language_info": {
   "codemirror_mode": {
    "name": "ipython",
    "version": 3
   },
   "file_extension": ".py",
   "mimetype": "text/x-python",
   "name": "python",
   "nbconvert_exporter": "python",
   "pygments_lexer": "ipython3",
   "version": "3.8.6"
  }
 },
 "nbformat": 4,
 "nbformat_minor": 5
}
