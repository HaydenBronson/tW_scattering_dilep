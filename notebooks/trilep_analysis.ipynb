{
 "cells": [
  {
   "cell_type": "code",
   "execution_count": 2,
   "id": "verified-stevens",
   "metadata": {},
   "outputs": [],
   "source": [
    "%load_ext autoreload\n",
    "%autoreload 2"
   ]
  },
  {
   "cell_type": "code",
   "execution_count": 1,
   "id": "prescription-smooth",
   "metadata": {},
   "outputs": [],
   "source": [
    "import os\n",
    "\n",
    "from Tools.config_helpers import loadConfig, make_small\n",
    "from klepto.archives import dir_archive\n",
    "\n",
    "from coffea.nanoevents import NanoEventsFactory, NanoAODSchema\n",
    "from coffea import processor, hist\n",
    "\n",
    "from processor.trilep_analysis import trilep_analysis\n",
    "from processor.default_accumulators import desired_output, add_processes_to_output, variations"
   ]
  },
  {
   "cell_type": "code",
   "execution_count": null,
   "id": "stylish-outline",
   "metadata": {},
   "outputs": [
    {
     "name": "stdout",
     "output_type": "stream",
     "text": [
      "I'm running now\n"
     ]
    },
    {
     "data": {
      "application/vnd.jupyter.widget-view+json": {
       "model_id": "48c49e01525e478fb1c02e87d024ea4c",
       "version_major": 2,
       "version_minor": 0
      },
      "text/plain": [
       "Preprocessing:   0%|          | 0/9 [00:00<?, ?file/s]"
      ]
     },
     "metadata": {},
     "output_type": "display_data"
    },
    {
     "data": {
      "application/vnd.jupyter.widget-view+json": {
       "model_id": "c84720eb87aa45139713132e4a7299ca",
       "version_major": 2,
       "version_minor": 0
      },
      "text/plain": [
       "Processing:   0%|          | 0/12 [00:00<?, ?chunk/s]"
      ]
     },
     "metadata": {},
     "output_type": "display_data"
    }
   ],
   "source": [
    "# an equivalent code can be run with ipython -i trilep_analysis.py within the processor directory\n",
    "\n",
    "from Tools.samples import fileset_2018, fileset_2018_small\n",
    "\n",
    "overwrite = False\n",
    "year      = 2018\n",
    "small     = True\n",
    "\n",
    "# load the config and the cache\n",
    "cfg = loadConfig()\n",
    "\n",
    "cacheName = 'trilep_analysis'\n",
    "if small: cacheName += '_small'\n",
    "\n",
    "cache = dir_archive(os.path.join(os.path.expandvars(cfg['caches']['base']), cacheName), serialized=True)\n",
    "\n",
    "fileset = {\n",
    "    'topW_v3': fileset_2018['topW_v3'],\n",
    "    'topW_EFT_cp8': fileset_2018['topW_EFT_cp8'],\n",
    "    'topW_EFT_mix': fileset_2018['topW_EFT_mix'],\n",
    "    'TTW': fileset_2018['TTW'],\n",
    "    'TTZ': fileset_2018['TTZ'],\n",
    "    'TTH': fileset_2018['TTH'],\n",
    "    'diboson': fileset_2018['diboson'],\n",
    "    'ttbar': fileset_2018['top2l'],\n",
    "    'DY': fileset_2018['DY'],\n",
    "}\n",
    "\n",
    "fileset = make_small(fileset, small, n_max=1)  # run over just one file each if small is set to true\n",
    "\n",
    "# add all processes to output so that the cutflow doesn't fail\n",
    "add_processes_to_output(fileset, desired_output)\n",
    "\n",
    "# add some histograms that we defined in the processor\n",
    "# everything else is taken the default_accumulators.py\n",
    "from processor.default_accumulators import mass_axis, dataset_axis\n",
    "desired_output.update({\n",
    "    \"dilep_mass\": hist.Hist(\"Counts\", dataset_axis, mass_axis),\n",
    "})\n",
    "\n",
    "histograms = sorted(list(desired_output.keys()))\n",
    "\n",
    "exe_args = {\n",
    "    'workers': 16,\n",
    "    'function_args': {'flatten': False},\n",
    "    \"schema\": NanoAODSchema,\n",
    "}\n",
    "exe = processor.futures_executor\n",
    "\n",
    "if not overwrite:\n",
    "    cache.load()\n",
    "\n",
    "if cfg == cache.get('cfg') and histograms == cache.get('histograms') and cache.get('simple_output'):\n",
    "    output = cache.get('simple_output')\n",
    "\n",
    "else:\n",
    "    print (\"I'm running now\")\n",
    "    \n",
    "    output = processor.run_uproot_job(\n",
    "        fileset,\n",
    "        \"Events\",\n",
    "        trilep_analysis(year=year, variations=variations, accumulator=desired_output),\n",
    "        exe,\n",
    "        exe_args,\n",
    "        chunksize=250000,\n",
    "    )\n",
    "    \n",
    "    cache['fileset']        = fileset\n",
    "    cache['cfg']            = cfg\n",
    "    cache['histograms']     = histograms\n",
    "    cache['simple_output']  = output\n",
    "    cache.dump()"
   ]
  },
  {
   "cell_type": "code",
   "execution_count": null,
   "id": "honest-destruction",
   "metadata": {},
   "outputs": [],
   "source": [
    "# we can just take the process list from the fileset to avoid any confusions\n",
    "processes = list(fileset.keys())\n",
    "\n",
    "processes.remove('topW_EFT_cp8')\n",
    "processes.remove('topW_EFT_mix')\n",
    "\n",
    "# the following list is directly taken from Tools/selection.py\n",
    "lines = ['entry']\n",
    "lines += [\n",
    "            'filter',\n",
    "            'lepveto',\n",
    "            'trilep',\n",
    "            'p_T(lep0)>25',\n",
    "            'p_T(lep1)>20',\n",
    "            'trigger',\n",
    "            'offZ',\n",
    "            'MET>50',\n",
    "            'N_jet>2',\n",
    "            'N_central>1',\n",
    "            'N_btag>0',\n",
    "            'N_fwd>0',\n",
    "        ]\n",
    "\n",
    "from Tools.helpers import getCutFlowTable\n",
    "df = getCutFlowTable(output, processes=processes, lines=lines, significantFigures=4, signal='topW_v3')\n",
    "df"
   ]
  },
  {
   "cell_type": "code",
   "execution_count": null,
   "id": "removed-gnome",
   "metadata": {},
   "outputs": [],
   "source": [
    "df = getCutFlowTable(output, processes=processes, lines=lines, significantFigures=4, absolute=False, signal='topW_v3')\n",
    "df"
   ]
  },
  {
   "cell_type": "code",
   "execution_count": null,
   "id": "smaller-convert",
   "metadata": {},
   "outputs": [],
   "source": [
    "import warnings\n",
    "warnings.filterwarnings('ignore')\n",
    "\n",
    "import matplotlib.pyplot as plt\n",
    "import mplhep as hep\n",
    "plt.style.use(hep.style.CMS)\n",
    "\n",
    "from plots.helpers import makePlot\n",
    "\n",
    "# defining some new axes for rebinning.\n",
    "N_bins = hist.Bin('multiplicity', r'$N$', 10, -0.5, 9.5)\n",
    "N_bins_red = hist.Bin('multiplicity', r'$N$', 5, -0.5, 4.5)\n",
    "mass_bins = hist.Bin('mass', r'$M\\ (GeV)$', 20, 0, 200)\n",
    "pt_bins = hist.Bin('pt', r'$p_{T}\\ (GeV)$', 30, 0, 300)\n",
    "pt_bins_coarse = hist.Bin('pt', r'$p_{T}\\ (GeV)$', 10, 0, 300)\n",
    "eta_bins = hist.Bin('eta', r'$\\eta $', 25, -5.0, 5.0)\n",
    "\n",
    "my_labels = {\n",
    "    'topW_v3': 'top-W scat.',\n",
    "    'topW_EFT_cp8': 'EFT, cp8',\n",
    "    'topW_EFT_mix': 'EFT mix',\n",
    "    'TTZ': r'$t\\bar{t}Z$',\n",
    "    'TTW': r'$t\\bar{t}W$',\n",
    "    'TTH': r'$t\\bar{t}H$',\n",
    "    'diboson': 'VV/VVV',\n",
    "    'ttbar': r'$t\\bar{t}$',\n",
    "    'DY': 'Drell-Yan',\n",
    "}\n",
    "\n",
    "my_colors = {\n",
    "    'topW_v3': '#FF595E',\n",
    "    'topW_EFT_cp8': '#000000',\n",
    "    'topW_EFT_mix': '#0F7173',\n",
    "    'TTZ': '#FFCA3A',\n",
    "    'TTW': '#8AC926',\n",
    "    'TTH': '#34623F',\n",
    "    'diboson': '#525B76',\n",
    "    'ttbar': '#1982C4',\n",
    "    'DY': '#6A4C93',}"
   ]
  },
  {
   "cell_type": "code",
   "execution_count": null,
   "id": "nervous-dutch",
   "metadata": {},
   "outputs": [],
   "source": [
    "makePlot(output, 'lead_lep', 'pt',\n",
    "         data=[],\n",
    "         bins=pt_bins_coarse, log=True, normalize=False, axis_label=r'$p_{T}$ (lead lep) (GeV)',\n",
    "         new_colors=my_colors, new_labels=my_labels,\n",
    "         order=['diboson', 'TTW', 'TTH', 'TTZ', 'ttbar'],\n",
    "         signals=['topW_v3', 'topW_EFT_cp8', 'topW_EFT_mix'],\n",
    "        )"
   ]
  },
  {
   "cell_type": "code",
   "execution_count": null,
   "id": "intellectual-melbourne",
   "metadata": {},
   "outputs": [],
   "source": [
    "makePlot(output, 'lead_lep', 'pt',\n",
    "         data=[],\n",
    "         bins=pt_bins_coarse, log=True, normalize=False, axis_label=r'$p_{T}$ (lead lep) (GeV)',\n",
    "         new_colors=my_colors, new_labels=my_labels,\n",
    "         order=['topW_v3', 'diboson', 'TTW', 'TTH', 'TTZ', 'ttbar'],\n",
    "         signals=[],\n",
    "         omit=['topW_EFT_cp8', 'topW_EFT_mix'],\n",
    "        )"
   ]
  },
  {
   "cell_type": "code",
   "execution_count": null,
   "id": "violent-seven",
   "metadata": {},
   "outputs": [],
   "source": [
    "makePlot(output, 'lead_lep', 'pt',\n",
    "         data=[],\n",
    "         shape=True,\n",
    "         bins=pt_bins_coarse, log=True, normalize=False, axis_label=r'$p_{T}$ (lead lep) (GeV)',\n",
    "         new_colors=my_colors, new_labels=my_labels,\n",
    "         omit=['topW_EFT_cp8', 'topW_EFT_mix'],\n",
    "        )"
   ]
  },
  {
   "cell_type": "code",
   "execution_count": null,
   "id": "utility-weight",
   "metadata": {},
   "outputs": [],
   "source": [
    "makePlot(output, 'lead_lep', 'pt',\n",
    "         data=[],\n",
    "         shape=True,\n",
    "         bins=pt_bins_coarse, log=True, normalize=False, axis_label=r'$p_{T}$ (lead lep) (GeV)',\n",
    "         new_colors=my_colors, new_labels=my_labels,\n",
    "         omit=['DY', 'ttbar', 'TTZ', 'TTH', 'diboson'],\n",
    "        )"
   ]
  },
  {
   "cell_type": "code",
   "execution_count": null,
   "id": "immune-debut",
   "metadata": {},
   "outputs": [],
   "source": [
    "makePlot(output, 'dilep_mass', 'mass',\n",
    "         bins=mass_bins, log=False, normalize=False, axis_label=r'$M_{\\ell\\ell}$ (GeV)',\n",
    "         new_colors=my_colors, new_labels=my_labels,\n",
    "         order=['topW_v3', 'diboson',  'TTW', 'TTH', 'TTZ', 'ttbar', 'DY'],\n",
    "         omit=['topW_EFT_cp8', 'topW_EFT_mix'],\n",
    "        )\n",
    "makePlot(output, 'dilep_mass', 'mass',\n",
    "         shape=True,\n",
    "         bins=mass_bins, log=False, normalize=False, axis_label=r'$M_{\\ell\\ell}$ (GeV)',\n",
    "         new_colors=my_colors, new_labels=my_labels,\n",
    "         ymax=0.7,\n",
    "         omit=['topW_EFT_cp8', 'topW_EFT_mix'],\n",
    "        )"
   ]
  },
  {
   "cell_type": "code",
   "execution_count": null,
   "id": "preceding-fantasy",
   "metadata": {},
   "outputs": [],
   "source": []
  },
  {
   "cell_type": "code",
   "execution_count": null,
   "id": "accessory-lease",
   "metadata": {},
   "outputs": [],
   "source": []
  }
 ],
 "metadata": {
  "kernelspec": {
   "display_name": "Python 3",
   "language": "python",
   "name": "python3"
  },
  "language_info": {
   "codemirror_mode": {
    "name": "ipython",
    "version": 3
   },
   "file_extension": ".py",
   "mimetype": "text/x-python",
   "name": "python",
   "nbconvert_exporter": "python",
   "pygments_lexer": "ipython3",
   "version": "3.6.12"
  }
 },
 "nbformat": 4,
 "nbformat_minor": 5
}
